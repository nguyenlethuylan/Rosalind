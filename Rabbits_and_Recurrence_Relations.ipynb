{
 "cells": [
  {
   "cell_type": "code",
   "execution_count": 1,
   "metadata": {},
   "outputs": [
    {
     "data": {
      "text/plain": [
       "1431655765"
      ]
     },
     "execution_count": 1,
     "metadata": {},
     "output_type": "execute_result"
    }
   ],
   "source": [
    "# Rabbits_and_Recurrence_Relations\n",
    "def total_rabbits(n, k):\n",
    "    rabbits = [0] * n  \n",
    "    rabbits[0:2] = 1, 1 \n",
    "    for i in range(2, n): \n",
    "        rabbits[i] = rabbits[i - 1] + rabbits[i - 2] * k  \n",
    "    return rabbits[-1]  \n",
    "\n",
    "total_rabbits(32,2)"
   ]
  }
 ],
 "metadata": {
  "kernelspec": {
   "display_name": "base",
   "language": "python",
   "name": "python3"
  },
  "language_info": {
   "codemirror_mode": {
    "name": "ipython",
    "version": 3
   },
   "file_extension": ".py",
   "mimetype": "text/x-python",
   "name": "python",
   "nbconvert_exporter": "python",
   "pygments_lexer": "ipython3",
   "version": "3.10.9"
  },
  "orig_nbformat": 4
 },
 "nbformat": 4,
 "nbformat_minor": 2
}
