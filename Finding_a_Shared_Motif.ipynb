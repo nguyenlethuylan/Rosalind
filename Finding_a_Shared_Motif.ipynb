{
 "cells": [
  {
   "cell_type": "code",
   "execution_count": 1,
   "metadata": {},
   "outputs": [
    {
     "name": "stdout",
     "output_type": "stream",
     "text": [
      "GAGCAAAACCATTAAGAATGCGTTCGTATAAACTAAGGCCTTCGGCTGAATTGATTCCACTCGGTCCATATCTTTAAGGTGGGGGAGTTCCACGGAGGAGTACTGTTCGTATTCGGTAAAAGTTTAGAACCTCCACTACCTAGCATACAGATGTTACCCGCCG\n"
     ]
    }
   ],
   "source": [
    "# Finding_a_Shared_Motif\n",
    "def find_shared_motif(dna_list):\n",
    "   shortest_dna = min(dna_list, key=len)\n",
    "   motifs = set()\n",
    "\n",
    "   for i in range(len(shortest_dna)):\n",
    "       for j in range(i + 1, len(shortest_dna) + 1):\n",
    "           motif = shortest_dna[i:j]\n",
    "           if all(motif in dna for dna in dna_list):\n",
    "               motifs.add(motif)\n",
    "\n",
    "   return max(motifs, key=len)\n",
    "\n",
    "# Read sequences from the text file \"sequences.txt\"\n",
    "dna_list = []\n",
    "with open(\"/home/lanlan/Downloads/rosalind_lcsm.txt\", \"r\") as file:\n",
    "   sequence = \"\"\n",
    "   for line in file:\n",
    "       line = line.strip() \n",
    "       if line.startswith(\">\"): \n",
    "           if sequence:  \n",
    "               dna_list.append(sequence)\n",
    "           sequence = \"\"  \n",
    "       else:\n",
    "           sequence += line  \n",
    "   if sequence:  \n",
    "       dna_list.append(sequence)\n",
    "\n",
    "# Find shared motifs\n",
    "shared_motif = find_shared_motif(dna_list)\n",
    "print(shared_motif)\n"
   ]
  }
 ],
 "metadata": {
  "kernelspec": {
   "display_name": "base",
   "language": "python",
   "name": "python3"
  },
  "language_info": {
   "codemirror_mode": {
    "name": "ipython",
    "version": 3
   },
   "file_extension": ".py",
   "mimetype": "text/x-python",
   "name": "python",
   "nbconvert_exporter": "python",
   "pygments_lexer": "ipython3",
   "version": "3.10.9"
  },
  "orig_nbformat": 4
 },
 "nbformat": 4,
 "nbformat_minor": 2
}
