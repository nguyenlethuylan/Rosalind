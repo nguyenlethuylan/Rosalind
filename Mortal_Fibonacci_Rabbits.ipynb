{
 "cells": [
  {
   "cell_type": "code",
   "execution_count": 1,
   "metadata": {},
   "outputs": [
    {
     "name": "stdout",
     "output_type": "stream",
     "text": [
      "19667838381351901712\n"
     ]
    }
   ],
   "source": [
    "n = 94\n",
    "m = 19\n",
    "Rabbits = [1] + [0] * (m - 1) \n",
    "for year in range(1, n):\n",
    "    Bunnies = 0\n",
    "    for j in range(1, m):\n",
    "        Bunnies += Rabbits[(year - j - 1) % m]\n",
    "    Rabbits[(year) % m] = Bunnies \n",
    "Total_Rabbits = sum(Rabbits)\n",
    "\n",
    "print(Total_Rabbits)\n"
   ]
  }
 ],
 "metadata": {
  "kernelspec": {
   "display_name": "base",
   "language": "python",
   "name": "python3"
  },
  "language_info": {
   "codemirror_mode": {
    "name": "ipython",
    "version": 3
   },
   "file_extension": ".py",
   "mimetype": "text/x-python",
   "name": "python",
   "nbconvert_exporter": "python",
   "pygments_lexer": "ipython3",
   "version": "3.10.9"
  },
  "orig_nbformat": 4
 },
 "nbformat": 4,
 "nbformat_minor": 2
}
