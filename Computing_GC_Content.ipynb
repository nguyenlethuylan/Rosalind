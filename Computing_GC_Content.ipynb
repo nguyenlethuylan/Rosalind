{
 "cells": [
  {
   "cell_type": "code",
   "execution_count": 1,
   "metadata": {},
   "outputs": [
    {
     "name": "stdout",
     "output_type": "stream",
     "text": [
      "{'Rosalind_2275': 49.20993227990971, 'Rosalind_0323': 51.162790697674424, 'Rosalind_4180': 52.74043433298863, 'Rosalind_1441': 49.075215782983975, 'Rosalind_9162': 48.383084577114424, 'Rosalind_8211': 51.64835164835166, 'Rosalind_9593': 49.152542372881356}\n",
      "Rosalind_4180 52.74043433298863\n"
     ]
    }
   ],
   "source": [
    "# Computing GC Content\n",
    "output = {} \n",
    "name_sequence = [] \n",
    "percent_CG = []\n",
    "# define function to calculate the GC percent \n",
    "def calc_GC_percent(s: str):\n",
    "    CG_count = s.count(\"C\") + s.count(\"G\")\n",
    "    CG_percent = (CG_count / len(s)) * 100\n",
    "    return CG_percent\n",
    "\n",
    "# read file and add to dictionary \n",
    "with open(\"/home/lanlan/Downloads/rosalind_gc.txt\") as f:\n",
    "     sequence = \"\"\n",
    "     name = \"\"\n",
    "     for line in f:\n",
    "         if line.startswith('>'):\n",
    "             if sequence != \"\":  \n",
    "                 output[name] = calc_GC_percent(sequence)\n",
    "             name = line[1:].strip()  \n",
    "             sequence = \"\"  \n",
    "         else:\n",
    "             sequence += line.strip()  \n",
    "\n",
    "     # Add the last sequence to the dictionary\n",
    "     output[name] = calc_GC_percent(sequence)\n",
    "print(output)\n",
    "max_sequence_name = max(output, key=output.get)\n",
    "max_GC = output[max_sequence_name]\n",
    "\n",
    "print(max_sequence_name, max_GC)"
   ]
  }
 ],
 "metadata": {
  "kernelspec": {
   "display_name": "base",
   "language": "python",
   "name": "python3"
  },
  "language_info": {
   "codemirror_mode": {
    "name": "ipython",
    "version": 3
   },
   "file_extension": ".py",
   "mimetype": "text/x-python",
   "name": "python",
   "nbconvert_exporter": "python",
   "pygments_lexer": "ipython3",
   "version": "3.10.9"
  },
  "orig_nbformat": 4
 },
 "nbformat": 4,
 "nbformat_minor": 2
}
