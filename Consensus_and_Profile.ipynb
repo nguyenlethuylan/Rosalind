{
 "cells": [
  {
   "cell_type": "code",
   "execution_count": 1,
   "metadata": {},
   "outputs": [
    {
     "name": "stdout",
     "output_type": "stream",
     "text": [
      "A: 4 0 2 0 1 4 2 3 4 0 1 3 0 0 0 0 2 3 2 2 4 5 3 2 3 5 3 2 2 3 1 4 5 1 3 1 2 3 4 2 1 2 3 0 0 1 4 3 2 0 4 2 2 2 4 1 2 2 4 4 6 4 1 1 3 2 4 0 4 4 1 3 4 2 1 4 3 1 0 2 4 1 2 3 1 2 1 2 0 2 4 2 2 4 1 0 3 2 5 2 2 4 0 0 2 3 4 2 5 0 1 4 1 0 4 0 1 3 3 1 3 3 3 4 2 3 0 3 3 3 3 4 3 2 1 1 2 2 3 2 0 5 3 0 1 2 0 0 7 3 3 3 5 5 3 3 4 1 5 3 2 4 0 2 3 5 5 1 2 1 2 1 3 3 1 1 4 4 1 1 0 4 3 4 3 4 2 3 3 1 1 0 3 3 1 1 1 4 3 5 2 5 3 2 0 1 2 3 5 2 4 1 2 2 2 0 3 4 4 3 4 3 2 1 1 1 2 4 3 2 2 1 2 2 3 2 3 4 1 4 3 1 5 0 4 3 4 3 7 2 1 2 3 3 3 4 4 0 1 1 4 1 2 2 3 2 2 2 2 2 4 1 3 1 2 3 1 4 2 2 1 0 2 1 0 2 1 2 4 0 0 3 1 1 4 1 3 2 2 4 2 2 4 4 6 4 2 3 3 3 2 1 6 2 3 3 3 3 0 3 3 3 2 2 0 3 5 4 4 4 0 3 4 3 2 5 2 1 3 2 2 1 3 2 2 2 1 1 2 3 2 4 3 6 1 5 3 2 1 2 4 3 3 2 2 3 5 3 2 4 1 3 2 2 1 4 3 4 1 1 5 2 4 3 2 3 3 2 2 3 4 3 3 2 3 1 3 0 2 2 0 0 3 3 5 2 3 3 3 3 1 1 1 1 1 4 1 3 0 5 2 1 4 2 2 2 1 1 2 2 1 2 1 3 5 1 3 3 3 3 3 2 1 3 3 4 3 2 2 2 1 2 3 2 3 1 5 2 1 1 3 1 1 4 3 4 2 5 1 0 3 1 0 2 1 2 3 4 2 5 4 3 3 3 3 2 1 4 4 3 2 3 3 2 6 1 1 3 1 4 2 4 2 1 1 2 4 1 4 4 4 1 3 1 2 1 3 1 1 3 1 1 3 2 1 2 2 2 2 2 3 2 1 4 2 1 5 3 2 0 2 3 2 5 4 3 4 2 1 4 2 2 3 2 4 2 4 1 4 3 2 3 3 3 2 2 4 5 3 2 2 2 3 3 4 2 2 4 3 1 2 1 3 1 1 3 2 3 5 1 3 4 2 2 2 3 2 2 1 2 4 1 3 3 3 3 2 3 3 2 3 4 4 2 3 4 3 3 1 2 4 2 4 1 1 4 2 5 2 3 2 1 3 3 1 2 1 1 1 5 2 0 4 0 2 1 0 3 2 5 1 6 2 2 2 2 2 4 2 2 4 2 2 3 5 5 1 4 0 0 2 3 2 2 4 5 1 3 3 2 2 3 3 5 4 5 3 3 3 2 5 2 4 5 2 1 5 1 4 1 2 2 0 1 3 4 2 1 1 3 1 1 1 4 3 2 3 2 2 1 2 4 2 1 3 1 3 3 1 2 3 2 4 3 3 3 2 4 4 2 1 1 1 3 3 0 1 3 2 2 0 4 1 4 2 2 7 2 5 2 2 3 1 2 1 1 2 2 1 4 4 1 3 3 3 4 2 0 1 4 2 4 3 4 4 1 3 3 4 6 4 3 3 2 1 1 5 2 2 2 4 2 3 1 2 0 2 2 4 4 0 4 2 3 0 2 4 2 5 3 2 6 3 3 2 2 3 1 3 3 4 2 2 2 2 1 4 3 4 3 5 2 2 1 3 2 4 0 4 3 2 3 3 2 2 2 3 5 3 3 1 1 3 2 4 3 4 5 2 2 2 3 3 1 1 3 4 2 3 4 2 1 4 4 3 6 3 3 2 2 3 2 2 1 4 4 3 1 3 3 2 3 3 1 2 2 1 2 4 3 2 1 3 1 2 1 2 2 4 2 3 3 5 3 2 1 1 2 2 3 1 2 3 7 4 5 1 0 4 6 4 2 1 2 3 2 4 0 2 4 1 1 2 2 1 3 0 4 2 2 3 1 1 2 3 1 2 5 1 0 2 5 2 1 3 1 4 3 2 3 1 6 1 0 1 4 0 1 1 3 0 4\n",
      "C: 3 3 4 7 3 2 3 3 2 4 3 0 1 5 2 4 0 2 1 4 1 1 5 3 3 2 1 3 4 3 2 4 2 4 3 2 2 3 2 2 3 5 1 4 5 4 5 4 2 5 5 2 2 1 2 2 4 3 1 2 2 2 3 1 2 5 1 5 1 2 5 4 0 4 5 1 3 4 4 2 4 3 4 1 4 2 4 3 4 5 2 4 3 3 3 2 2 3 2 3 0 3 3 1 4 1 1 4 2 3 2 1 0 2 2 7 2 4 1 2 1 1 1 1 2 0 1 1 2 3 3 1 2 3 4 3 4 4 1 1 1 3 2 4 3 2 5 3 3 2 2 3 1 2 2 3 2 5 2 0 2 5 5 4 3 1 3 5 3 2 3 4 1 0 1 3 1 3 2 3 1 5 3 2 1 3 3 2 3 4 3 2 2 4 2 1 5 2 2 3 1 1 2 4 2 3 0 4 0 0 2 3 1 2 3 3 2 0 1 3 3 4 2 3 3 1 0 3 2 3 5 3 4 3 2 3 4 1 2 4 2 1 0 4 1 4 2 4 2 5 1 1 5 2 3 1 3 4 5 3 1 3 3 2 4 2 4 2 2 3 2 4 3 1 4 2 2 0 4 3 2 3 3 3 4 2 2 3 1 4 4 4 4 4 1 5 3 4 3 4 1 2 3 0 0 1 2 4 2 3 3 1 1 3 3 4 1 4 3 2 2 0 4 3 1 3 1 1 2 3 2 4 4 3 4 1 5 3 3 3 3 4 3 2 1 4 3 3 4 3 2 3 3 1 5 1 3 1 5 3 2 0 1 3 3 5 2 3 1 1 4 2 3 2 6 0 2 1 4 5 2 1 0 2 1 2 3 2 2 3 1 3 3 2 2 1 2 3 1 6 3 2 4 3 0 2 2 0 3 1 3 2 3 1 1 3 5 2 2 2 1 4 1 2 2 2 4 4 3 4 2 3 3 1 1 3 2 2 0 4 2 2 4 4 3 3 3 4 3 1 4 3 2 2 3 2 0 4 5 1 3 5 4 2 3 2 2 1 3 3 3 5 5 3 0 3 2 1 3 2 4 3 4 2 1 2 2 1 3 2 2 3 3 2 1 5 1 6 3 4 4 1 3 3 2 2 2 3 3 3 1 2 2 2 2 3 1 3 1 1 3 5 2 4 0 3 2 5 4 3 1 2 2 2 1 3 3 2 5 6 4 3 2 1 0 1 1 4 4 3 2 2 2 2 5 4 2 3 0 2 2 3 1 3 3 2 0 1 4 5 3 3 0 1 2 4 3 3 3 3 3 1 0 3 3 0 3 2 3 4 2 3 4 1 1 1 5 4 3 5 4 2 2 3 1 3 2 1 2 4 3 4 3 2 1 2 3 3 2 2 1 4 1 5 4 3 3 1 3 1 1 6 3 4 4 3 1 3 4 0 4 4 5 4 3 1 3 4 1 1 3 3 2 5 1 4 2 0 0 5 2 3 2 2 3 1 2 2 3 3 2 1 1 2 1 3 3 0 4 2 3 1 3 1 2 2 2 4 2 3 3 3 1 0 2 1 2 3 3 3 3 1 3 4 3 1 0 3 2 2 4 5 3 1 4 2 1 4 3 1 3 2 3 3 2 4 2 3 4 4 0 3 3 3 3 0 3 1 3 3 2 4 3 1 2 3 5 3 4 1 3 1 6 3 3 2 0 4 1 1 1 1 2 3 1 3 3 3 4 3 2 4 1 3 4 2 3 2 4 4 2 1 3 0 2 3 4 3 1 2 1 4 4 3 2 4 1 1 4 2 4 1 1 3 3 3 1 1 2 3 6 2 4 2 5 3 2 3 2 2 3 1 3 2 1 3 1 5 3 4 1 3 4 3 4 2 2 2 2 4 3 3 2 3 6 4 5 4 2 2 2 4 2 2 3 3 1 1 3 3 2 2 2 1 1 1 3 2 2 3 3 0 2 1 1 3 3 3 2 4 3 4 0 3 2 1 2 4 4 4 1 3 1 4 1 0 2 2 2 2 0 4 2 3 6 0 1 3 4 4 2 4 3 5 4 5 5 3 1 0 4 1 2 1 2 5 2 5 4 4 2 4 2 2 1 1 4 1 1 1 1 5 1 1 3 3 2 1 2 1 4 2 5 0 2 3 4 1 1 3 2 2 2 2 4 3 1 1 5 4 6 2 4 4 4 4 0 4 1 1 4 0 3 5 2 3 6 3 4 3 5 1\n",
      "G: 2 3 2 1 3 3 2 2 3 3 4 3 6 2 4 1 6 5 1 1 5 3 1 2 2 1 1 2 1 3 4 0 1 3 3 1 1 0 1 2 4 1 1 3 1 3 0 1 2 4 0 4 3 2 3 5 1 1 0 0 2 2 2 4 3 1 4 1 3 2 2 3 1 3 1 3 4 3 3 3 1 2 1 3 1 2 3 0 4 1 2 2 1 2 0 4 3 3 1 3 6 1 1 7 1 3 3 2 1 2 3 3 4 4 2 1 3 0 3 5 4 2 4 4 2 2 6 1 2 2 3 2 1 4 2 3 3 1 1 2 3 1 2 4 1 4 2 5 0 3 2 3 2 2 4 3 1 2 2 6 2 0 2 3 2 3 2 1 2 4 0 4 3 1 4 5 2 2 0 3 3 1 2 4 2 1 3 1 1 5 3 3 3 2 3 3 1 1 2 0 3 2 2 3 7 2 4 2 3 5 1 2 4 3 3 4 2 3 2 3 3 1 3 4 4 7 5 1 2 0 1 1 2 2 4 3 1 4 5 1 2 3 3 3 3 1 2 2 1 2 4 3 2 3 1 2 2 0 4 1 1 5 1 2 1 3 3 3 5 2 2 2 2 3 3 2 5 3 1 3 5 6 3 3 4 2 3 2 4 2 4 1 2 2 2 2 2 3 4 1 2 3 2 6 1 2 5 2 3 1 1 5 2 5 2 2 4 2 3 3 3 3 2 3 5 3 2 2 1 3 4 1 2 1 2 4 2 4 1 4 0 3 3 2 5 1 4 4 2 2 3 2 1 0 2 0 3 3 2 2 3 5 3 2 3 1 2 1 6 1 2 2 2 4 1 3 2 3 2 2 1 4 2 2 4 3 2 3 3 2 3 3 4 5 1 4 3 2 4 1 4 4 0 3 3 3 3 2 2 4 1 3 4 5 4 2 3 3 4 2 3 3 2 2 5 1 2 4 4 1 5 3 2 4 1 6 2 2 4 2 2 3 2 0 2 2 2 2 3 1 1 3 2 3 2 4 2 2 1 5 3 1 3 0 2 2 5 2 3 6 2 3 4 1 7 3 2 3 2 1 1 4 2 2 4 4 0 3 3 1 3 3 1 2 1 1 2 0 2 1 4 2 5 5 4 4 2 3 2 1 5 4 2 3 1 4 3 4 3 2 4 2 4 3 4 1 1 1 3 2 4 2 5 2 1 2 2 2 3 1 1 1 4 1 4 4 2 0 3 1 4 4 3 3 1 3 2 0 6 3 5 2 3 3 3 3 2 4 3 2 1 3 2 2 3 4 2 1 2 5 4 4 4 2 3 2 3 3 1 3 3 2 1 5 2 4 3 2 1 1 2 4 3 2 3 2 5 3 4 2 2 1 1 4 5 3 2 2 3 2 4 1 3 2 3 2 4 1 5 2 4 1 1 2 0 2 6 4 4 4 2 2 1 2 2 5 3 1 3 3 3 1 4 2 2 2 2 4 4 2 2 3 6 2 1 1 4 2 2 4 3 4 3 3 1 1 3 4 1 5 2 4 1 3 2 1 3 1 3 5 0 2 1 3 4 3 2 3 3 4 3 4 2 4 3 3 1 4 5 3 4 3 4 1 1 2 5 2 2 4 2 2 3 3 3 5 2 3 2 1 5 3 2 1 2 5 3 3 2 2 5 2 4 2 1 4 2 2 2 4 3 2 1 1 3 2 3 2 1 4 4 3 5 4 4 3 3 3 2 1 4 3 3 2 3 1 3 3 2 1 3 3 1 5 3 2 2 2 3 1 2 0 2 2 3 4 1 4 1 3 1 1 3 4 4 3 6 5 3 3 2 1 0 2 3 2 3 3 1 3 3 1 2 3 4 2 3 1 1 1 1 3 2 1 3 5 1 3 2 2 0 2 4 2 0 2 0 3 2 1 1 0 4 2 2 2 4 1 2 2 5 6 3 4 2 1 1 1 3 4 1 2 2 4 5 0 2 2 3 1 3 2 4 1 2 1 1 1 3 1 3 1 4 3 3 2 1 2 4 2 3 1 2 3 2 6 5 2 1 2 3 3 2 2 4 2 0 3 3 5 1 5 1 2 3 2 4 1 2 2 4 3 2 0 2 2 2 5 3 2 2 3 5 3 2 3 2 5 5 2 2 0 1 6 2 1 3 3 4 1 0 4 3 3 0 2 4 1 3 3 1 0 2 1 2 1 4 1 4 3 4 2 3 2 3 3 3 4 2 3 3 3\n",
      "T: 1 4 2 2 3 1 3 2 1 3 2 4 3 3 4 5 2 0 6 3 0 1 1 3 2 2 5 3 3 1 3 2 2 2 1 6 5 4 3 4 2 2 5 3 4 2 1 2 4 1 1 2 3 5 1 2 3 4 5 4 0 2 4 4 2 2 1 4 2 2 2 0 5 1 3 2 0 2 3 3 1 4 3 3 4 4 2 5 2 2 2 2 4 1 6 4 2 2 2 2 2 2 6 2 3 3 2 2 2 5 4 2 5 4 2 2 4 3 3 2 2 4 2 1 4 5 3 5 3 2 1 3 4 1 3 3 1 3 5 5 6 1 3 2 5 2 3 2 0 2 3 1 2 1 1 1 3 2 1 1 4 1 3 1 2 1 0 3 3 3 5 1 3 6 4 1 3 1 7 3 6 0 2 0 4 2 2 4 3 0 3 5 2 1 4 5 3 3 3 2 4 2 3 1 1 4 4 1 2 3 3 4 3 3 2 3 3 3 3 1 0 2 3 2 2 1 3 2 3 5 2 5 2 3 1 2 2 1 2 1 3 5 2 3 2 2 2 1 0 1 4 4 0 2 3 3 1 6 0 5 4 1 4 4 2 3 1 3 1 3 2 3 2 5 1 3 2 3 3 2 2 1 2 3 2 4 4 3 1 4 2 2 3 3 3 2 2 1 1 1 5 3 1 0 3 3 1 1 2 3 4 3 1 0 2 1 2 1 4 2 2 4 2 2 4 1 2 3 3 0 4 2 0 3 2 0 1 2 3 1 5 2 1 4 2 3 2 2 2 2 3 1 3 3 2 4 1 4 2 3 1 2 3 3 2 1 1 3 1 4 3 3 3 2 2 3 3 2 3 2 2 3 4 3 3 2 2 3 3 2 2 1 0 1 4 4 2 5 3 1 3 4 3 1 2 3 2 5 2 2 5 4 2 3 4 1 1 2 4 1 4 2 3 4 1 5 3 1 1 3 2 2 4 2 3 0 3 3 3 1 3 3 3 3 2 1 2 2 2 6 4 2 3 3 2 3 3 2 3 3 1 3 2 4 2 2 1 2 3 1 2 1 1 4 2 2 3 2 3 2 1 0 1 3 2 2 7 2 0 4 3 1 3 4 2 3 6 1 4 1 0 3 0 1 3 2 2 3 1 2 0 3 3 4 5 2 3 2 5 4 2 2 1 1 5 4 5 2 1 3 2 4 2 2 6 4 0 3 0 3 3 3 2 3 2 2 3 4 2 2 2 2 2 3 0 1 2 6 0 2 1 2 3 1 2 3 4 0 0 1 4 2 5 4 1 0 3 2 2 1 1 4 3 4 3 5 2 2 1 2 2 1 3 2 5 2 0 2 5 2 0 3 2 2 3 2 1 3 1 2 2 1 2 2 1 1 2 2 4 4 1 3 2 2 2 1 1 3 0 4 3 2 3 1 5 3 2 2 1 1 2 4 0 4 3 3 4 2 4 1 3 0 2 1 5 2 4 2 4 1 2 2 0 3 1 3 3 2 5 3 3 2 4 3 4 1 3 3 2 1 3 2 3 1 2 2 2 2 2 0 2 3 4 2 2 5 1 3 0 2 2 3 5 1 1 2 7 2 2 2 1 1 2 4 2 4 1 2 3 4 3 2 2 3 2 0 3 1 3 3 2 2 1 3 2 2 2 2 1 3 2 3 2 4 4 3 2 2 2 3 4 3 2 2 2 4 0 2 3 3 3 3 2 1 4 3 2 2 3 2 0 2 3 2 0 3 2 5 3 1 3 2 3 1 1 4 1 2 2 1 3 3 1 3 4 1 3 3 3 3 1 6 3 2 1 4 1 2 1 0 2 3 4 3 2 3 1 2 2 2 2 2 2 2 3 3 3 3 3 2 4 2 2 4 1 2 3 2 2 1 2 3 2 4 1 2 1 3 2 4 5 3 1 4 3 3 2 3 2 2 2 1 2 3 3 5 2 2 3 1 4 5 3 4 3 4 1 3 2 1 2 3 2 2 3 2 4 2 1 3 3 4 3 2 2 4 4 5 1 3 5 2 3 3 0 2 3 3 1 1 3 2 2 2 0 2 3 2 2 3 2 1 2 4 3 2 3 2 2 1 3 1 3 1 3 2 3 4 2 1 3 0 3 4 2 2 2 4 1 3 3 7 2 2 5 3 3 2 3 4 5 3 4 3 3 4 3 3 1 3 1 3 2 4 1 4 2 2 3 3 1 2 3 3 4 0 1 2 3 1 2 2\n",
      "Consensus string: ATCCCACAACGTGCGTGGTCGACCAATCCAGAACATTTATGCTCCCCCTCCGGTAGCTTAAATGACACAACCTCCAGCCGATCACTCTCCACTATGACACGATGCAACATTATGACTCAGGTGATTGTAAAATGCCCCTTTAACTGCGAAAAAAGAACAGTCCCAAACCGTCATGGAATCTCAATACTAGCTACTTCAAATAACGTGCAGATGGCGAAAAACGGGGGAATCTCCGCCAGAATACACACACGTCAAAATCTAGTTCGCGGCACATCAGACCGGCCCTTCACCCCCACACGATGAGAAGCAATGAGACGCTAATCCGAAAAAGCAACACGAGTCATGCGGCAGAAACAATCCAGACCCAAGACACGCAAACCAGAAGAAGGAAAGGTGATGCGGCAAGATAGTTGGGACAGATCATGTCCGCGCTGAGAAGCAGCCAAACCTCCAGAGACCGACCAAAGACGACCTGCAACAAGCAGGTAATGAATACTCTACAGGGGACAAGGATTGAGTTGCGCTTTCCCGTGATTAACCCAGAAGACCAGGAGCCATGAGAAACGAACCTCTTACCAAGGGGTCTCAACAACGTGCCTCAGAAAAGAGCAAAGGAAATTACACCAGAGTGCACTCGGCACCCCCGTCTACAGCTCTAGCACGAAAGATGGGTGAACGCGCGAAAAACAGACAAGTACAGCGTCAATGGACCGACTGCCGCACCAGAACCGCAAAGCAACGCGTTGCACGTACACTACAGGAGGGCCCCAACAACACTCAGAAGATCAAAACCCTCAGCGATAGGTGGAACACACCACAACAAAGCACACACCTCGAAACACGTCCCCATTCGTCCGAAAGGAGATAAGGTTAGGTACAACCAAAATCCCATGCAATTGATCACCGGCACGCACCCCCAGCGATGCGCCCGCAAAACGAAACGTACAGGACTCGTACAGTTGTGCTGACCCACCCCACGACACCTACGCACA\n"
     ]
    }
   ],
   "source": [
    "# Consensus and Profile \n",
    "matrix = {\n",
    "    'A': [],\n",
    "    'C': [],\n",
    "    'G': [],\n",
    "    'T': []\n",
    "}\n",
    "\n",
    "# Read sequences from file and determine the length of the sequences\n",
    "sequences = []\n",
    "with open(\"/home/lanlan/Downloads/rosalind_cons.txt\", \"r\") as file:\n",
    "    current_sequence = \"\"\n",
    "    for line in file:\n",
    "        line = line.strip()\n",
    "        if line.startswith('>'):\n",
    "            if current_sequence:\n",
    "                sequences.append(current_sequence)\n",
    "                current_sequence = \"\"\n",
    "        else:\n",
    "            current_sequence += line\n",
    "    \n",
    "    # Append the last sequence\n",
    "    if current_sequence:\n",
    "        sequences.append(current_sequence)\n",
    "\n",
    "# Determine the length of sequences\n",
    "n = len(sequences[0])\n",
    "\n",
    "# Initialize matrix based on sequence length\n",
    "for nucleotide in matrix:\n",
    "    matrix[nucleotide] = [0] * n\n",
    "\n",
    "# Process sequences\n",
    "for dna in sequences:\n",
    "    for position, nucleotide in enumerate(dna):\n",
    "        matrix[nucleotide][position] += 1\n",
    "\n",
    "# Output the matrix\n",
    "for nucleotide, counts in matrix.items():\n",
    "    print(nucleotide + ':', ' '.join(map(str, counts)))\n",
    "\n",
    "# Find consensus string\n",
    "result = []\n",
    "for position in range(n):\n",
    "    max_count = 0\n",
    "    max_nucleotide = None\n",
    "    for nucleotide in ['A', 'C', 'G', 'T']:\n",
    "        count = matrix[nucleotide][position]\n",
    "        if count > max_count:\n",
    "            max_count = count\n",
    "            max_nucleotide = nucleotide\n",
    "    result.append(max_nucleotide)\n",
    "    \n",
    "consensus = ''.join(result)\n",
    "print(\"Consensus string:\", consensus)\n"
   ]
  }
 ],
 "metadata": {
  "kernelspec": {
   "display_name": "base",
   "language": "python",
   "name": "python3"
  },
  "language_info": {
   "codemirror_mode": {
    "name": "ipython",
    "version": 3
   },
   "file_extension": ".py",
   "mimetype": "text/x-python",
   "name": "python",
   "nbconvert_exporter": "python",
   "pygments_lexer": "ipython3",
   "version": "3.10.9"
  },
  "orig_nbformat": 4
 },
 "nbformat": 4,
 "nbformat_minor": 2
}
