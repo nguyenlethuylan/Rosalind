{
 "cells": [
  {
   "cell_type": "code",
   "execution_count": 1,
   "metadata": {},
   "outputs": [
    {
     "name": "stdout",
     "output_type": "stream",
     "text": [
      "nu A 229 ,nu T 231, nu G 243, nu C 238\n"
     ]
    }
   ],
   "source": [
    "# Counting DNA Nucleotides\n",
    "s='GCGCATAGACAGCGTGCTGACTCCTGTATGTGCCTGCATAACGGACTAGCCACCCCATTAGGAACGCCGGGAAGGCCCTGCAGGGGCTCATTGCCAGCATGGAGTGTAGTACCTTCGGAATCCGATTCAATGCCTTGATATTGGACAACTACGTAGCTCTAGTCACGCCCTTATAAGAAGTGGGGGAATCACATCTACTTGGCGCGAAGTGGGTGGAAGGCCGGAGCGTGCCGTGTTATCGAGTGGAGCCTCCTTCGGTTGGCCCTGCATGGACTCCCGGGCTTCAACGTTTTGTCGCAGGATACATCTTCACGCCTACTCGCAGGCCTAATCTGCTGTAATCAGAGGGATGGAAAGATCACGGACGAGACTTGGCACATTATCCACCTTTGCTCTCCAGGAGTGTTCTTGATACGATAACGGTAGGTTTAAGTCTCAAGATGGACGGCATGCTATTCGGTTCAGTGGGTAGGTTTACGGACTCAGCGCGGCGCGCCAAAGGAGTACTCAAGAGGACGTTCCTACTGTCAATCCACATCGCTATGACAGTTGAAAAGGCCATACTAAGTTTCAGACATAGTTGAAATTGCTAGTACTGCAAAGTCGTGAACGAGTATCGGCGTCGCCATCTTGCCTACTTTTGACCCAAGATCTCCGTGCATAAACGCAATCGGGACCCATTTCCCCTACCAGCACTCGGGCAATCTAAACTACAGAAATTGACTAATCTTAAGGTGATAGACAACCGCACACTAGTCCGCCATACCTCTCGGCATACAAGTGGTGCTTTTATTCTTACGGGGGTTGTCTCATCTAACTAGCTGGGTCCTTCCGCCGCCCAGACTGGGCTACGATACCAGGAATTGTGCCGATGTGAGATTGGCAAAGTTGGTAAGCTGACCATTTTTGTCGATAGGGGGCTAATAAACTCGCACCTACGA'\n",
    "count_A=0\n",
    "count_T=0\n",
    "count_G=0\n",
    "count_C=0\n",
    "\n",
    "for nu in s:\n",
    "  if nu == \"A\":\n",
    "    count_A = count_A +1\n",
    "  elif nu == \"T\":\n",
    "    count_T = count_T +1\n",
    "  elif nu == \"G\":\n",
    "    count_G = count_G +1\n",
    "  else:\n",
    "    count_C = count_C +1\n",
    "\n",
    "print(f'nu A {count_A} ,nu T {count_T}, nu G {count_G}, nu C {count_C}')"
   ]
  }
 ],
 "metadata": {
  "kernelspec": {
   "display_name": "Python 3",
   "language": "python",
   "name": "python3"
  },
  "language_info": {
   "codemirror_mode": {
    "name": "ipython",
    "version": 3
   },
   "file_extension": ".py",
   "mimetype": "text/x-python",
   "name": "python",
   "nbconvert_exporter": "python",
   "pygments_lexer": "ipython3",
   "version": "3.10.13"
  },
  "orig_nbformat": 4
 },
 "nbformat": 4,
 "nbformat_minor": 2
}
