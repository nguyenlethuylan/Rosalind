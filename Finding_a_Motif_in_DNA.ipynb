{
 "cells": [
  {
   "cell_type": "code",
   "execution_count": 1,
   "metadata": {},
   "outputs": [
    {
     "name": "stdout",
     "output_type": "stream",
     "text": [
      "The motif GAATCTCGA found at [58, 65, 111, 145, 160, 237, 244, 251, 407, 445, 475, 540, 556, 622, 641, 743, 750]\n"
     ]
    }
   ],
   "source": [
    "# Finding a Motif in DNA\n",
    "s = \"TGAATCTCACCGTGAATCTCCGGAATCTCTAGGAATCTCAACTCCCGAATCTCGCTCGAATCTCGAATCTCGAATCTCTGAAGCGCGAATCTCCGAATCTCTGAATCTCCGAATCTCGAGAATCTCTTCAAGCAAGAATGTCAAGAATCTCGAATCTCGGAATCTCGAATCTCTACTTGAATCTCTCGGAATCTCTGCGAATCTCAGGAATCTCTAGAATCTCGTGAGAATCTCAGGAATCTCGAATCTCGAATCTCGAATCTCAGGTTCGGAATCTCTAAACGAATCTCAGAATCTCCTGTGAGGACGAATCTCGGCGAATCTCTCGAATCTCACTGGAATCTCATTCAGAATCTCCCTGAATCTCAGTCAATTCACTGAATCTCGTTGAATCTCATAGCCCCACGAATCTCGAATCTCAAGAATCTCATAGGAATCTCATTGGAATCTCGAGAATCTCCTTACAACAGATCAGAATCTCGAGGCGAATCTCTCTGGAATCTCCATGCAGCGAATCTCTGAATCTCCTTGAATCTCGTGAATCTCGAATCTCGTGAATCTCGAATCTCTCTTGGTTGGAATCTCCGAATCTCTAAAATGAGAATCTCATTCTTGCCGCGGGAATCTCGAATCTCTCACGGAATCTCGAATCTCCAAGAATCTCCGGAATCTCCCTTGAATCTCATATTGAATCTCAAGAATCTCCATTACTGAATCTCTCAGAATCTCTTCTGGAATCTCGGAATCTCGAATCTCGAATCTCCATGCAGAATCTCCCTTCTGAATCTCTGACGAATCTCCGCAGAATCTC\"\n",
    "t = \"GAATCTCGA\"\n",
    "pos = []\n",
    "\n",
    "for i in range(len(s)-len(t)+1):\n",
    "    motif = s[i : i + len(t)]\n",
    "    if motif == t:\n",
    "        pos.append(i+1)\n",
    "print(f'The motif {t} found at {pos}')"
   ]
  }
 ],
 "metadata": {
  "kernelspec": {
   "display_name": "base",
   "language": "python",
   "name": "python3"
  },
  "language_info": {
   "codemirror_mode": {
    "name": "ipython",
    "version": 3
   },
   "file_extension": ".py",
   "mimetype": "text/x-python",
   "name": "python",
   "nbconvert_exporter": "python",
   "pygments_lexer": "ipython3",
   "version": "3.10.9"
  },
  "orig_nbformat": 4
 },
 "nbformat": 4,
 "nbformat_minor": 2
}
