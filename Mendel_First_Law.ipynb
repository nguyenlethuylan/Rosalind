{
 "cells": [
  {
   "cell_type": "code",
   "execution_count": 1,
   "metadata": {},
   "outputs": [
    {
     "data": {
      "text/plain": [
       "0.811938061938062"
      ]
     },
     "execution_count": 1,
     "metadata": {},
     "output_type": "execute_result"
    }
   ],
   "source": [
    "# Mendel_First_Law\n",
    "# A* in F1 = ?\n",
    "pop = {\n",
    "    \"AA\": 29,\n",
    "    \"Aa\": 30,\n",
    "    \"aa\": 19\n",
    "}\n",
    "def probability_two_randomly(pop:dict):\n",
    "  # probality of homozygous recessive when mating\n",
    "  prob_aa_aa = 1\n",
    "  prob_Aa_Aa = 1/4\n",
    "  prob_Aa_aa = 1/2 \n",
    "\n",
    "  allele_avaiable = [\"Aa\",\"aa\"]\n",
    "  value_list = []\n",
    "\n",
    "  for allele_1 in allele_avaiable:\n",
    "    total_1=sum(pop.values())\n",
    "    prob_random1 = pop[allele_1]/total_1\n",
    "    pop[allele_1] -= 1\n",
    "    total_2 = sum(pop.values())\n",
    "    prob_random2_Aa = pop[\"Aa\"]/total_2\n",
    "    prob_random2_aa = pop[\"aa\"]/total_2\n",
    "\n",
    "    # probality case \n",
    "    if allele_1 == \"aa\":\n",
    "      prob_1 = prob_random1 * prob_random2_Aa * prob_Aa_aa\n",
    "      prob_2 = prob_random1 * prob_random2_aa * prob_aa_aa\n",
    "    else:\n",
    "      prob_1 = prob_random1 * prob_random2_Aa * prob_Aa_Aa\n",
    "      prob_2 = prob_random1 * prob_random2_aa * prob_Aa_aa\n",
    "\n",
    "    # add to list \n",
    "    value_list.extend([prob_1, prob_2])\n",
    "    # return value for dict\n",
    "    pop[allele_1] += 1 \n",
    "  # probaty of A_\n",
    "  prob_dominant_allele = 1 - sum(list(value_list))\n",
    "  return(prob_dominant_allele)\n",
    "\n",
    "# RUN TEST\n",
    "probability_two_randomly(pop)"
   ]
  }
 ],
 "metadata": {
  "kernelspec": {
   "display_name": "base",
   "language": "python",
   "name": "python3"
  },
  "language_info": {
   "codemirror_mode": {
    "name": "ipython",
    "version": 3
   },
   "file_extension": ".py",
   "mimetype": "text/x-python",
   "name": "python",
   "nbconvert_exporter": "python",
   "pygments_lexer": "ipython3",
   "version": "3.10.9"
  },
  "orig_nbformat": 4
 },
 "nbformat": 4,
 "nbformat_minor": 2
}
