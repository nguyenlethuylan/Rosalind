{
 "cells": [
  {
   "cell_type": "code",
   "execution_count": 1,
   "metadata": {},
   "outputs": [
    {
     "name": "stdout",
     "output_type": "stream",
     "text": [
      "153147.0\n"
     ]
    }
   ],
   "source": [
    "# Calculating_Expected_Offspring\n",
    "AA_AA = 18593\n",
    "AA_Aa = 18684\n",
    "AA_aa = 18000\n",
    "Aa_Aa = 17416\n",
    "Aa_aa = 16469\n",
    "aaa_aa = 16571\n",
    "\n",
    "# Define a function for the expected number of offspring\n",
    "def expected(prob, x):\n",
    "    if x == 0:\n",
    "        return 0\n",
    "    else:\n",
    "        return prob * (x * 2)\n",
    "\n",
    "# Calculate the expected number for each couple\n",
    "AAAA = expected(1, AA_AA) \n",
    "AAAa = expected(1, AA_Aa)  \n",
    "AAaa = expected(1, AA_aa)  \n",
    "AaAa = expected(0.75, Aa_Aa)  \n",
    "Aaaa = expected(0.5, Aa_aa)  \n",
    "aaaa = expected(0, aaa_aa)  \n",
    "\n",
    "# Calculate the total probability for dominant phenotype in the next generation\n",
    "total_prob = AAAA + AAAa + AAaa + AaAa + Aaaa + aaaa\n",
    "print(total_prob)\n"
   ]
  }
 ],
 "metadata": {
  "kernelspec": {
   "display_name": "base",
   "language": "python",
   "name": "python3"
  },
  "language_info": {
   "codemirror_mode": {
    "name": "ipython",
    "version": 3
   },
   "file_extension": ".py",
   "mimetype": "text/x-python",
   "name": "python",
   "nbconvert_exporter": "python",
   "pygments_lexer": "ipython3",
   "version": "3.10.9"
  },
  "orig_nbformat": 4
 },
 "nbformat": 4,
 "nbformat_minor": 2
}
